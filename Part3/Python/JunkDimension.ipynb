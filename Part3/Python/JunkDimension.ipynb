{
 "cells": [
  {
   "cell_type": "code",
   "execution_count": 1,
   "id": "d4e2ca84",
   "metadata": {},
   "outputs": [],
   "source": [
    "import pandas as pd\n",
    "import numpy as np"
   ]
  },
  {
   "cell_type": "code",
   "execution_count": 2,
   "id": "c872d8db",
   "metadata": {},
   "outputs": [],
   "source": [
    "df=pd.DataFrame(columns=['IDJunk','VerificacaoVizinho','VerificacaoVoto'])"
   ]
  },
  {
   "cell_type": "code",
   "execution_count": 3,
   "id": "559650ce",
   "metadata": {},
   "outputs": [],
   "source": [
    "df['VerificacaoVizinho']=['PaisesVizinhos','PaisesVizinhos','PaisesVizinhos','PaisesNaoVizinhos','PaisesNaoVizinhos','PaisesNaoVizinhos']"
   ]
  },
  {
   "cell_type": "code",
   "execution_count": 4,
   "id": "7f5c3bb7",
   "metadata": {},
   "outputs": [],
   "source": [
    "df['VerificacaoVoto']=['Televoto','VotoJuri','VotoNaoDiscriminado','Televoto','VotoJuri','VotoNaoDiscriminado']"
   ]
  },
  {
   "cell_type": "code",
   "execution_count": 5,
   "id": "e0ddb677",
   "metadata": {},
   "outputs": [],
   "source": [
    "df['IDJunk']=df.index+1"
   ]
  },
  {
   "cell_type": "code",
   "execution_count": 6,
   "id": "91e7df63",
   "metadata": {},
   "outputs": [],
   "source": [
    "df.to_csv(\"DimJunk.csv\", index=False)"
   ]
  },
  {
   "cell_type": "code",
   "execution_count": null,
   "id": "e2494862",
   "metadata": {},
   "outputs": [],
   "source": []
  }
 ],
 "metadata": {
  "kernelspec": {
   "display_name": "Python 3",
   "language": "python",
   "name": "python3"
  },
  "language_info": {
   "codemirror_mode": {
    "name": "ipython",
    "version": 3
   },
   "file_extension": ".py",
   "mimetype": "text/x-python",
   "name": "python",
   "nbconvert_exporter": "python",
   "pygments_lexer": "ipython3",
   "version": "3.8.8"
  }
 },
 "nbformat": 4,
 "nbformat_minor": 5
}
