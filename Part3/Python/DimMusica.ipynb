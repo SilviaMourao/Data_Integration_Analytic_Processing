{
 "cells": [
  {
   "cell_type": "code",
   "execution_count": 1,
   "id": "713dc070",
   "metadata": {},
   "outputs": [],
   "source": [
    "import pandas as pd"
   ]
  },
  {
   "cell_type": "code",
   "execution_count": 2,
   "id": "0bf93d74",
   "metadata": {},
   "outputs": [],
   "source": [
    "df = pd.read_excel('Musica.xlsx')"
   ]
  },
  {
   "cell_type": "code",
   "execution_count": 3,
   "id": "17730a5c",
   "metadata": {},
   "outputs": [],
   "source": [
    "dfmusica=pd.DataFrame(columns=['IDMusica','Musica'])"
   ]
  },
  {
   "cell_type": "code",
   "execution_count": 4,
   "id": "ebca7337",
   "metadata": {},
   "outputs": [],
   "source": [
    "dfmusica['Musica']=df['Value.Song']"
   ]
  },
  {
   "cell_type": "code",
   "execution_count": 5,
   "id": "3023f24d",
   "metadata": {},
   "outputs": [],
   "source": [
    "dfmusica['IDMusica']=dfmusica.index+1"
   ]
  },
  {
   "cell_type": "code",
   "execution_count": 6,
   "id": "81a0a9ab",
   "metadata": {},
   "outputs": [],
   "source": [
    "dfmusica['Artista']=df['Value.Artist']"
   ]
  },
  {
   "cell_type": "code",
   "execution_count": 7,
   "id": "14570347",
   "metadata": {},
   "outputs": [],
   "source": [
    "dfmusica['Lingua']=df['EnglishNonEnglish']"
   ]
  },
  {
   "cell_type": "code",
   "execution_count": 8,
   "id": "0d4c3d43",
   "metadata": {},
   "outputs": [],
   "source": [
    "dfmusica['Classificacao']=df['Value.Pl.']"
   ]
  },
  {
   "cell_type": "code",
   "execution_count": 9,
   "id": "1a0a0955",
   "metadata": {},
   "outputs": [],
   "source": [
    "dfmusica.fillna(0,inplace=True)"
   ]
  },
  {
   "cell_type": "code",
   "execution_count": 10,
   "id": "0feccc5c",
   "metadata": {},
   "outputs": [],
   "source": [
    "dfmusica['OrdemAtuacao']=df['RunningOrder']"
   ]
  },
  {
   "cell_type": "code",
   "execution_count": 11,
   "id": "a879db04",
   "metadata": {},
   "outputs": [],
   "source": [
    "dfmusica.fillna(0,inplace=True)"
   ]
  },
  {
   "cell_type": "code",
   "execution_count": 12,
   "id": "84c0ed3f",
   "metadata": {},
   "outputs": [],
   "source": [
    "dfmusica['OrdemAtuacaoNormalizada']=df['Ropercent']"
   ]
  },
  {
   "cell_type": "code",
   "execution_count": 13,
   "id": "804a1c56",
   "metadata": {},
   "outputs": [],
   "source": [
    "dfmusica.fillna(0,inplace=True)"
   ]
  },
  {
   "cell_type": "code",
   "execution_count": 14,
   "id": "a0da346b",
   "metadata": {
    "scrolled": false
   },
   "outputs": [
    {
     "data": {
      "text/plain": [
       "IDMusica                     int64\n",
       "Musica                      object\n",
       "Artista                     object\n",
       "Lingua                      object\n",
       "Classificacao              float64\n",
       "OrdemAtuacao               float64\n",
       "OrdemAtuacaoNormalizada     object\n",
       "dtype: object"
      ]
     },
     "execution_count": 14,
     "metadata": {},
     "output_type": "execute_result"
    }
   ],
   "source": [
    "dfmusica.dtypes"
   ]
  },
  {
   "cell_type": "code",
   "execution_count": 15,
   "id": "cc62d46f",
   "metadata": {},
   "outputs": [],
   "source": [
    "dfmusica['Classificacao']=dfmusica['Classificacao'].astype(int)\n",
    "dfmusica['OrdemAtuacao']=dfmusica['OrdemAtuacao'].astype(int)"
   ]
  },
  {
   "cell_type": "code",
   "execution_count": 16,
   "id": "a5700eed",
   "metadata": {},
   "outputs": [],
   "source": [
    "dfmusica['Pontuacao']=df['Value.Sc.']\n",
    "dfmusica.fillna(9999,inplace=True)\n",
    "dfmusica['Pontuacao']=dfmusica['Pontuacao'].astype(int)\n",
    "dfmusica['Pontuacao'].replace(to_replace = 9999, value = 0 , inplace=True)"
   ]
  },
  {
   "cell_type": "code",
   "execution_count": 17,
   "id": "ba8d1851",
   "metadata": {},
   "outputs": [],
   "source": [
    "dfmusica=dfmusica.drop(dfmusica.index[1644])"
   ]
  },
  {
   "cell_type": "code",
   "execution_count": 18,
   "id": "44523d53",
   "metadata": {},
   "outputs": [],
   "source": [
    "dfmusica.to_csv(\"DimMusica_final.csv\", index=False)"
   ]
  },
  {
   "cell_type": "code",
   "execution_count": null,
   "id": "ac4657c3",
   "metadata": {},
   "outputs": [],
   "source": []
  }
 ],
 "metadata": {
  "kernelspec": {
   "display_name": "Python 3",
   "language": "python",
   "name": "python3"
  },
  "language_info": {
   "codemirror_mode": {
    "name": "ipython",
    "version": 3
   },
   "file_extension": ".py",
   "mimetype": "text/x-python",
   "name": "python",
   "nbconvert_exporter": "python",
   "pygments_lexer": "ipython3",
   "version": "3.8.8"
  }
 },
 "nbformat": 4,
 "nbformat_minor": 5
}
