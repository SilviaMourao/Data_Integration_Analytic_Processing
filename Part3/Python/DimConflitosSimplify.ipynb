{
 "cells": [
  {
   "cell_type": "code",
   "execution_count": 1,
   "id": "d4e2ca84",
   "metadata": {},
   "outputs": [],
   "source": [
    "import pandas as pd\n",
    "import numpy as np"
   ]
  },
  {
   "cell_type": "code",
   "execution_count": 2,
   "id": "c872d8db",
   "metadata": {},
   "outputs": [],
   "source": [
    "df=pd.DataFrame(columns=['IDConflito','VerificacaoConflito','LocalizacaoConflito'])"
   ]
  },
  {
   "cell_type": "code",
   "execution_count": 3,
   "id": "559650ce",
   "metadata": {},
   "outputs": [],
   "source": [
    "df['VerificacaoConflito']=['NaoEnvolvidoEmConflito','EnvolvidoEmConflito','EnvolvidoEmConflito','EnvolvidoEmConflito','EnvolvidoEmConflito']"
   ]
  },
  {
   "cell_type": "code",
   "execution_count": 4,
   "id": "7f5c3bb7",
   "metadata": {},
   "outputs": [],
   "source": [
    "df['LocalizacaoConflito']=['NA','ConflitoNumParticipanteEurovisao','ConflitoNumParticipanteEurovisao','ConflitoNumNaoParticipanteEurovisao','ConflitoNumNaoParticipanteEurovisao']"
   ]
  },
  {
   "cell_type": "code",
   "execution_count": 5,
   "id": "b2bc52db",
   "metadata": {},
   "outputs": [],
   "source": [
    "df['AtivoEurovisao']=['NA','AtivoDuranteEurovisao','NaoAtivoDuranteEurovisao','AtivoDuranteEurovisao','NaoAtivoDuranteEurovisao']"
   ]
  },
  {
   "cell_type": "code",
   "execution_count": 6,
   "id": "e0ddb677",
   "metadata": {},
   "outputs": [],
   "source": [
    "df['IDConflito']=df.index+1"
   ]
  },
  {
   "cell_type": "code",
   "execution_count": 9,
   "id": "91e7df63",
   "metadata": {},
   "outputs": [],
   "source": [
    "df.to_csv(\"DimJunkConflito.csv\", index=False)"
   ]
  },
  {
   "cell_type": "code",
   "execution_count": null,
   "id": "e2494862",
   "metadata": {},
   "outputs": [],
   "source": []
  }
 ],
 "metadata": {
  "kernelspec": {
   "display_name": "Python 3",
   "language": "python",
   "name": "python3"
  },
  "language_info": {
   "codemirror_mode": {
    "name": "ipython",
    "version": 3
   },
   "file_extension": ".py",
   "mimetype": "text/x-python",
   "name": "python",
   "nbconvert_exporter": "python",
   "pygments_lexer": "ipython3",
   "version": "3.8.8"
  }
 },
 "nbformat": 4,
 "nbformat_minor": 5
}
