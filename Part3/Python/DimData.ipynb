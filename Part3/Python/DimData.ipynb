{
 "cells": [
  {
   "cell_type": "code",
   "execution_count": 1,
   "id": "b88fa1b7",
   "metadata": {},
   "outputs": [],
   "source": [
    "import pandas as pd"
   ]
  },
  {
   "cell_type": "code",
   "execution_count": 2,
   "id": "d47d3479",
   "metadata": {},
   "outputs": [],
   "source": [
    "import numpy as np"
   ]
  },
  {
   "cell_type": "code",
   "execution_count": 3,
   "id": "fd08786a",
   "metadata": {},
   "outputs": [],
   "source": [
    "df=pd.DataFrame(columns=['IDData','Ano'])"
   ]
  },
  {
   "cell_type": "code",
   "execution_count": 4,
   "id": "c22455f6",
   "metadata": {},
   "outputs": [],
   "source": [
    "df['Ano']=pd.period_range(\"1/1/1956\", freq=\"Y\", periods=66)"
   ]
  },
  {
   "cell_type": "code",
   "execution_count": 5,
   "id": "44d85270",
   "metadata": {},
   "outputs": [],
   "source": [
    "df['IDData']=df.index+1"
   ]
  },
  {
   "cell_type": "code",
   "execution_count": 6,
   "id": "e27295ef",
   "metadata": {},
   "outputs": [],
   "source": [
    "df['Ano'] = df['Ano'].astype(str).astype(int)"
   ]
  },
  {
   "cell_type": "code",
   "execution_count": 7,
   "id": "6efa14d2",
   "metadata": {},
   "outputs": [],
   "source": [
    "conditions2=[((df['Ano']%10)<5),(df['Ano']%10)>=5]"
   ]
  },
  {
   "cell_type": "code",
   "execution_count": 8,
   "id": "9bba676b",
   "metadata": {},
   "outputs": [],
   "source": [
    "values2=['Primeira Metade da Decada','Segunda Metade da Decada']"
   ]
  },
  {
   "cell_type": "code",
   "execution_count": 9,
   "id": "23c215bd",
   "metadata": {},
   "outputs": [],
   "source": [
    "df['MetadeDaDecada']=np.select(conditions2,values2)"
   ]
  },
  {
   "cell_type": "code",
   "execution_count": 10,
   "id": "e244739e",
   "metadata": {},
   "outputs": [],
   "source": [
    "conditions=[(df['Ano']<1960),\n",
    "           (df['Ano']>=1960) & (df['Ano']<1970),\n",
    "           (df['Ano']>=1970) & (df['Ano']<1980),\n",
    "           (df['Ano']>=1980) & (df['Ano']<1990),\n",
    "           (df['Ano']>=1990) & (df['Ano']<2000),\n",
    "           (df['Ano']>=2000) & (df['Ano']<2010),\n",
    "           (df['Ano']>=2010) & (df['Ano']<2020),\n",
    "           (df['Ano']>=2020)]           "
   ]
  },
  {
   "cell_type": "code",
   "execution_count": 11,
   "id": "74eff5c9",
   "metadata": {},
   "outputs": [],
   "source": [
    "values=[1950,1960,1970,1980,1990,2000,2010,2020]"
   ]
  },
  {
   "cell_type": "code",
   "execution_count": 12,
   "id": "68d1efc4",
   "metadata": {},
   "outputs": [],
   "source": [
    "df['Decada']=np.select(conditions,values)"
   ]
  },
  {
   "cell_type": "code",
   "execution_count": 13,
   "id": "aa149fee",
   "metadata": {},
   "outputs": [],
   "source": [
    "conditions1=[(df['Ano']<2000),df['Ano']>=2000]"
   ]
  },
  {
   "cell_type": "code",
   "execution_count": 14,
   "id": "6e2a00a5",
   "metadata": {},
   "outputs": [],
   "source": [
    "values1=[20,21]"
   ]
  },
  {
   "cell_type": "code",
   "execution_count": 15,
   "id": "5283aafc",
   "metadata": {},
   "outputs": [],
   "source": [
    "df['Seculo']=np.select(conditions1,values1)"
   ]
  },
  {
   "cell_type": "code",
   "execution_count": 16,
   "id": "52ca27e9",
   "metadata": {},
   "outputs": [
    {
     "name": "stdout",
     "output_type": "stream",
     "text": [
      "    IDData   Ano             MetadeDaDecada  Decada  Seculo\n",
      "0        1  1956   Segunda Metade da Decada    1950      20\n",
      "1        2  1957   Segunda Metade da Decada    1950      20\n",
      "2        3  1958   Segunda Metade da Decada    1950      20\n",
      "3        4  1959   Segunda Metade da Decada    1950      20\n",
      "4        5  1960  Primeira Metade da Decada    1960      20\n",
      "..     ...   ...                        ...     ...     ...\n",
      "61      62  2017   Segunda Metade da Decada    2010      21\n",
      "62      63  2018   Segunda Metade da Decada    2010      21\n",
      "63      64  2019   Segunda Metade da Decada    2010      21\n",
      "64      65  2020  Primeira Metade da Decada    2020      21\n",
      "65      66  2021  Primeira Metade da Decada    2020      21\n",
      "\n",
      "[66 rows x 5 columns]\n"
     ]
    }
   ],
   "source": [
    "print(df)"
   ]
  },
  {
   "cell_type": "code",
   "execution_count": 17,
   "id": "0d8f3587",
   "metadata": {},
   "outputs": [],
   "source": [
    "df.to_csv(\"DimData.csv\", index=False)"
   ]
  },
  {
   "cell_type": "code",
   "execution_count": null,
   "id": "4a2ddcac",
   "metadata": {},
   "outputs": [],
   "source": []
  }
 ],
 "metadata": {
  "kernelspec": {
   "display_name": "Python 3",
   "language": "python",
   "name": "python3"
  },
  "language_info": {
   "codemirror_mode": {
    "name": "ipython",
    "version": 3
   },
   "file_extension": ".py",
   "mimetype": "text/x-python",
   "name": "python",
   "nbconvert_exporter": "python",
   "pygments_lexer": "ipython3",
   "version": "3.8.8"
  }
 },
 "nbformat": 4,
 "nbformat_minor": 5
}
