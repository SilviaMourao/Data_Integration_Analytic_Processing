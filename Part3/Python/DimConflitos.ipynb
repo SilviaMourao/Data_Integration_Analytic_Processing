{
 "cells": [
  {
   "cell_type": "code",
   "execution_count": 1,
   "id": "2b2fa7a7",
   "metadata": {},
   "outputs": [],
   "source": [
    "import pandas as pd\n",
    "import numpy as np"
   ]
  },
  {
   "cell_type": "code",
   "execution_count": 2,
   "id": "fbe54f16",
   "metadata": {},
   "outputs": [],
   "source": [
    "df1=pd.read_csv('DimLocalizacao.csv')\n",
    "df2=pd.read_excel('Conflitos.xlsx')\n",
    "dfconflito=pd.DataFrame(columns=['IDConflito'])"
   ]
  },
  {
   "cell_type": "code",
   "execution_count": 3,
   "id": "04d12f58",
   "metadata": {},
   "outputs": [],
   "source": [
    "dfconflito['LocalizacaoConflito']=df2['Conflict Location']"
   ]
  },
  {
   "cell_type": "code",
   "execution_count": 4,
   "id": "b012f50d",
   "metadata": {},
   "outputs": [],
   "source": [
    "dfconflito['IDConflito']=dfconflito.index+1"
   ]
  },
  {
   "cell_type": "code",
   "execution_count": 5,
   "id": "9049a09a",
   "metadata": {},
   "outputs": [],
   "source": [
    "dfconflito['ParticipaEurovisao']=np.where(dfconflito['LocalizacaoConflito'].isin(df1['Pais']),'ParticipanteEurovisao','NaoParticipaNaEurovisao')"
   ]
  },
  {
   "cell_type": "code",
   "execution_count": 6,
   "id": "123760e7",
   "metadata": {},
   "outputs": [],
   "source": [
    "dfconflito['NomeConflito']=df2['Conflict']"
   ]
  },
  {
   "cell_type": "code",
   "execution_count": 7,
   "id": "7a26e70b",
   "metadata": {},
   "outputs": [],
   "source": [
    "dfconflito['DataInicio']=df2['Start date']\n",
    "dfconflito['DataFim']=df2['End date']"
   ]
  },
  {
   "cell_type": "code",
   "execution_count": 8,
   "id": "ed54508a",
   "metadata": {},
   "outputs": [],
   "source": [
    "dfconflito['AnoInicio']=pd.DatetimeIndex(dfconflito['DataInicio']).year\n",
    "dfconflito['AnoFim']=pd.DatetimeIndex(dfconflito['DataFim']).year"
   ]
  },
  {
   "cell_type": "code",
   "execution_count": 9,
   "id": "990c0a02",
   "metadata": {},
   "outputs": [],
   "source": [
    "dfconflito['Participante']=df2['Participant 1']"
   ]
  },
  {
   "cell_type": "code",
   "execution_count": 10,
   "id": "5434ea71",
   "metadata": {},
   "outputs": [],
   "source": [
    "dfconflito['AnoFim'].fillna('999',inplace=True)"
   ]
  },
  {
   "cell_type": "code",
   "execution_count": 11,
   "id": "7faac159",
   "metadata": {},
   "outputs": [],
   "source": [
    "dfconflito.AnoFim = dfconflito.AnoFim.astype(int)"
   ]
  },
  {
   "cell_type": "code",
   "execution_count": 12,
   "id": "62d29089",
   "metadata": {},
   "outputs": [],
   "source": [
    "a=dfconflito['DataFim']-dfconflito['DataInicio']"
   ]
  },
  {
   "cell_type": "code",
   "execution_count": 13,
   "id": "3e80f6d8",
   "metadata": {},
   "outputs": [],
   "source": [
    "conditions=[(dfconflito['DataFim']-dfconflito['DataInicio']).dt.days>365,\n",
    "            (pd.DatetimeIndex(dfconflito['DataInicio']).year==(pd.DatetimeIndex(dfconflito['DataFim']).year)) & (pd.DatetimeIndex(dfconflito['DataInicio']).month<=5) & (pd.DatetimeIndex(dfconflito['DataFim']).month>=5),\n",
    "            (pd.DatetimeIndex(dfconflito['DataInicio']).year==(pd.DatetimeIndex(dfconflito['DataFim']).year)) & (pd.DatetimeIndex(dfconflito['DataInicio']).month<=1) & (pd.DatetimeIndex(dfconflito['DataFim']).month<=4),\n",
    "            (pd.DatetimeIndex(dfconflito['DataInicio']).year==(pd.DatetimeIndex(dfconflito['DataFim']).year)) & (pd.DatetimeIndex(dfconflito['DataInicio']).month>=6) & (pd.DatetimeIndex(dfconflito['DataFim']).month<=12),\n",
    "            (pd.DatetimeIndex(dfconflito['DataInicio']).year!=(pd.DatetimeIndex(dfconflito['DataFim']).year)) & (pd.DatetimeIndex(dfconflito['DataInicio']).month>5) & (pd.DatetimeIndex(dfconflito['DataFim']).month<5),\n",
    "            (pd.DatetimeIndex(dfconflito['DataInicio']).year!=(pd.DatetimeIndex(dfconflito['DataFim']).year)) & (pd.DatetimeIndex(dfconflito['DataInicio']).month<=5) & (pd.DatetimeIndex(dfconflito['DataFim']).month>=5),\n",
    "            (pd.DatetimeIndex(dfconflito['DataInicio']).year!=(pd.DatetimeIndex(dfconflito['DataFim']).year)) & (pd.DatetimeIndex(dfconflito['DataInicio']).month>=5) & (pd.DatetimeIndex(dfconflito['DataFim']).month>=5),\n",
    "            (dfconflito['AnoFim'])==999]"
   ]
  },
  {
   "cell_type": "code",
   "execution_count": 14,
   "id": "55ee70ba",
   "metadata": {},
   "outputs": [],
   "source": [
    "values=['AtivoDuranteEurovisao','AtivoDuranteEurovisao','NaoAtivoDuranteEurovisao','NaoAtivoDuranteEurovisao','AtivoDuranteEurovisao','NaoAtivoDuranteEurovisao','AtivoDuranteEurovisao','AtivoDuranteEurovisao']"
   ]
  },
  {
   "cell_type": "code",
   "execution_count": 15,
   "id": "8668a37b",
   "metadata": {},
   "outputs": [],
   "source": [
    "dfconflito['EstadoDuranteEurovisao']=np.select(conditions,values)            "
   ]
  },
  {
   "cell_type": "code",
   "execution_count": 16,
   "id": "25e47b7a",
   "metadata": {},
   "outputs": [],
   "source": [
    "dfconflito['AnoFim'] = dfconflito.AnoFim.replace(999,'')"
   ]
  },
  {
   "cell_type": "code",
   "execution_count": 17,
   "id": "c163176f",
   "metadata": {},
   "outputs": [
    {
     "name": "stdout",
     "output_type": "stream",
     "text": [
      "     IDConflito LocalizacaoConflito       ParticipaEurovisao  \\\n",
      "0             1             Morocco    ParticipanteEurovisao   \n",
      "1             2             Morocco    ParticipanteEurovisao   \n",
      "2             3          East Timor  NaoParticipaNaEurovisao   \n",
      "3             4               Yemen  NaoParticipaNaEurovisao   \n",
      "4             5               Spain    ParticipanteEurovisao   \n",
      "..          ...                 ...                      ...   \n",
      "180         181          Gaza Strip  NaoParticipaNaEurovisao   \n",
      "181         182          Azerbaijan    ParticipanteEurovisao   \n",
      "182         183          Azerbaijan    ParticipanteEurovisao   \n",
      "183         184             Ukraine    ParticipanteEurovisao   \n",
      "184         185             Ukraine    ParticipanteEurovisao   \n",
      "\n",
      "                                   NomeConflito DataInicio    DataFim  \\\n",
      "0                                      Ifni War 1957-10-23 1958-06-30   \n",
      "1                                      Ifni War 1957-10-24 1958-07-01   \n",
      "2                            Viqueque Rebellion 1959-06-07 1959-06-14   \n",
      "3                       Upper Yafa disturbances 1959-06-15 1959-06-18   \n",
      "4                               Basque conflict 1959-07-31 2011-10-20   \n",
      "..                                          ...        ...        ...   \n",
      "180                2021 Israel–Palestine crisis 2021-05-06 2021-05-21   \n",
      "181  2021-2022 Armenia–Azerbaijan border crisis 2021-05-12        NaT   \n",
      "182  2021-2022 Armenia–Azerbaijan border crisis 2021-05-12        NaT   \n",
      "183                 Russian invasion of Ukraine 2022-02-24        NaT   \n",
      "184                 Russian invasion of Ukraine 2022-02-24        NaT   \n",
      "\n",
      "     AnoInicio AnoFim    Participante    EstadoDuranteEurovisao  \n",
      "0         1957   1958           Spain     AtivoDuranteEurovisao  \n",
      "1         1957   1958          France     AtivoDuranteEurovisao  \n",
      "2         1959   1959        Portugal  NaoAtivoDuranteEurovisao  \n",
      "3         1959   1959  United Kingdom  NaoAtivoDuranteEurovisao  \n",
      "4         1959   2011           Spain     AtivoDuranteEurovisao  \n",
      "..         ...    ...             ...                       ...  \n",
      "180       2021   2021          Israel     AtivoDuranteEurovisao  \n",
      "181       2021                Armenia     AtivoDuranteEurovisao  \n",
      "182       2021             Azerbaijan     AtivoDuranteEurovisao  \n",
      "183       2022                Ukraine     AtivoDuranteEurovisao  \n",
      "184       2022                 Russia     AtivoDuranteEurovisao  \n",
      "\n",
      "[185 rows x 10 columns]\n"
     ]
    }
   ],
   "source": [
    "print(dfconflito)"
   ]
  },
  {
   "cell_type": "code",
   "execution_count": 20,
   "id": "c8fb576f",
   "metadata": {},
   "outputs": [],
   "source": [
    "dfconflito=dfconflito.drop(columns=['DataInicio', 'DataFim'])"
   ]
  },
  {
   "cell_type": "code",
   "execution_count": 21,
   "id": "c1a991ca",
   "metadata": {},
   "outputs": [],
   "source": [
    "dfconflito.to_csv('DimConflito.csv')"
   ]
  },
  {
   "cell_type": "code",
   "execution_count": null,
   "id": "e4da72fc",
   "metadata": {},
   "outputs": [],
   "source": []
  }
 ],
 "metadata": {
  "kernelspec": {
   "display_name": "Python 3",
   "language": "python",
   "name": "python3"
  },
  "language_info": {
   "codemirror_mode": {
    "name": "ipython",
    "version": 3
   },
   "file_extension": ".py",
   "mimetype": "text/x-python",
   "name": "python",
   "nbconvert_exporter": "python",
   "pygments_lexer": "ipython3",
   "version": "3.8.8"
  }
 },
 "nbformat": 4,
 "nbformat_minor": 5
}
